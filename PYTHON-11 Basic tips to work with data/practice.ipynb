{
 "cells": [
  {
   "cell_type": "code",
   "execution_count": 1,
   "metadata": {},
   "outputs": [],
   "source": [
    "import pandas as pd"
   ]
  },
  {
   "cell_type": "code",
   "execution_count": 4,
   "metadata": {},
   "outputs": [],
   "source": [
    "citibike_original_data = pd.read_csv('data/citibike-tripdata.csv', sep=\",\")"
   ]
  },
  {
   "cell_type": "code",
   "execution_count": 6,
   "metadata": {},
   "outputs": [
    {
     "data": {
      "text/html": [
       "<div>\n",
       "<style scoped>\n",
       "    .dataframe tbody tr th:only-of-type {\n",
       "        vertical-align: middle;\n",
       "    }\n",
       "\n",
       "    .dataframe tbody tr th {\n",
       "        vertical-align: top;\n",
       "    }\n",
       "\n",
       "    .dataframe thead th {\n",
       "        text-align: right;\n",
       "    }\n",
       "</style>\n",
       "<table border=\"1\" class=\"dataframe\">\n",
       "  <thead>\n",
       "    <tr style=\"text-align: right;\">\n",
       "      <th></th>\n",
       "      <th>starttime</th>\n",
       "      <th>stoptime</th>\n",
       "      <th>start station id</th>\n",
       "      <th>start station name</th>\n",
       "      <th>start station latitude</th>\n",
       "      <th>start station longitude</th>\n",
       "      <th>end station id</th>\n",
       "      <th>end station name</th>\n",
       "      <th>end station latitude</th>\n",
       "      <th>end station longitude</th>\n",
       "      <th>bikeid</th>\n",
       "      <th>usertype</th>\n",
       "      <th>birth year</th>\n",
       "      <th>gender</th>\n",
       "    </tr>\n",
       "  </thead>\n",
       "  <tbody>\n",
       "    <tr>\n",
       "      <th>0</th>\n",
       "      <td>2018-09-01 00:00:05.2690</td>\n",
       "      <td>2018-09-01 00:27:20.6340</td>\n",
       "      <td>252.0</td>\n",
       "      <td>MacDougal St &amp; Washington Sq</td>\n",
       "      <td>40.732264</td>\n",
       "      <td>-73.998522</td>\n",
       "      <td>366.0</td>\n",
       "      <td>Clinton Ave &amp; Myrtle Ave</td>\n",
       "      <td>40.693261</td>\n",
       "      <td>-73.968896</td>\n",
       "      <td>25577</td>\n",
       "      <td>Subscriber</td>\n",
       "      <td>1980</td>\n",
       "      <td>1</td>\n",
       "    </tr>\n",
       "    <tr>\n",
       "      <th>1</th>\n",
       "      <td>2018-09-01 00:00:11.2810</td>\n",
       "      <td>2018-09-01 00:02:23.4810</td>\n",
       "      <td>314.0</td>\n",
       "      <td>Cadman Plaza West &amp; Montague St</td>\n",
       "      <td>40.693830</td>\n",
       "      <td>-73.990539</td>\n",
       "      <td>3242.0</td>\n",
       "      <td>Schermerhorn St &amp; Court St</td>\n",
       "      <td>40.691029</td>\n",
       "      <td>-73.991834</td>\n",
       "      <td>34377</td>\n",
       "      <td>Subscriber</td>\n",
       "      <td>1969</td>\n",
       "      <td>0</td>\n",
       "    </tr>\n",
       "    <tr>\n",
       "      <th>2</th>\n",
       "      <td>2018-09-01 00:00:20.6490</td>\n",
       "      <td>2018-09-01 00:55:58.5470</td>\n",
       "      <td>3142.0</td>\n",
       "      <td>1 Ave &amp; E 62 St</td>\n",
       "      <td>40.761227</td>\n",
       "      <td>-73.960940</td>\n",
       "      <td>3384.0</td>\n",
       "      <td>Smith St &amp; 3 St</td>\n",
       "      <td>40.678724</td>\n",
       "      <td>-73.995991</td>\n",
       "      <td>30496</td>\n",
       "      <td>Subscriber</td>\n",
       "      <td>1975</td>\n",
       "      <td>1</td>\n",
       "    </tr>\n",
       "    <tr>\n",
       "      <th>3</th>\n",
       "      <td>2018-09-01 00:00:21.7460</td>\n",
       "      <td>2018-09-01 00:07:38.5830</td>\n",
       "      <td>308.0</td>\n",
       "      <td>St James Pl &amp; Oliver St</td>\n",
       "      <td>40.713079</td>\n",
       "      <td>-73.998512</td>\n",
       "      <td>3690.0</td>\n",
       "      <td>Park Pl &amp; Church St</td>\n",
       "      <td>40.713342</td>\n",
       "      <td>-74.009355</td>\n",
       "      <td>28866</td>\n",
       "      <td>Subscriber</td>\n",
       "      <td>1984</td>\n",
       "      <td>2</td>\n",
       "    </tr>\n",
       "    <tr>\n",
       "      <th>4</th>\n",
       "      <td>2018-09-01 00:00:27.3150</td>\n",
       "      <td>2018-09-01 02:21:25.3080</td>\n",
       "      <td>345.0</td>\n",
       "      <td>W 13 St &amp; 6 Ave</td>\n",
       "      <td>40.736494</td>\n",
       "      <td>-73.997044</td>\n",
       "      <td>380.0</td>\n",
       "      <td>W 4 St &amp; 7 Ave S</td>\n",
       "      <td>40.734011</td>\n",
       "      <td>-74.002939</td>\n",
       "      <td>20943</td>\n",
       "      <td>Customer</td>\n",
       "      <td>1994</td>\n",
       "      <td>1</td>\n",
       "    </tr>\n",
       "  </tbody>\n",
       "</table>\n",
       "</div>"
      ],
      "text/plain": [
       "                  starttime                  stoptime  start station id  \\\n",
       "0  2018-09-01 00:00:05.2690  2018-09-01 00:27:20.6340             252.0   \n",
       "1  2018-09-01 00:00:11.2810  2018-09-01 00:02:23.4810             314.0   \n",
       "2  2018-09-01 00:00:20.6490  2018-09-01 00:55:58.5470            3142.0   \n",
       "3  2018-09-01 00:00:21.7460  2018-09-01 00:07:38.5830             308.0   \n",
       "4  2018-09-01 00:00:27.3150  2018-09-01 02:21:25.3080             345.0   \n",
       "\n",
       "                start station name  start station latitude  \\\n",
       "0     MacDougal St & Washington Sq               40.732264   \n",
       "1  Cadman Plaza West & Montague St               40.693830   \n",
       "2                  1 Ave & E 62 St               40.761227   \n",
       "3          St James Pl & Oliver St               40.713079   \n",
       "4                  W 13 St & 6 Ave               40.736494   \n",
       "\n",
       "   start station longitude  end station id            end station name  \\\n",
       "0               -73.998522           366.0    Clinton Ave & Myrtle Ave   \n",
       "1               -73.990539          3242.0  Schermerhorn St & Court St   \n",
       "2               -73.960940          3384.0             Smith St & 3 St   \n",
       "3               -73.998512          3690.0         Park Pl & Church St   \n",
       "4               -73.997044           380.0            W 4 St & 7 Ave S   \n",
       "\n",
       "   end station latitude  end station longitude  bikeid    usertype  \\\n",
       "0             40.693261             -73.968896   25577  Subscriber   \n",
       "1             40.691029             -73.991834   34377  Subscriber   \n",
       "2             40.678724             -73.995991   30496  Subscriber   \n",
       "3             40.713342             -74.009355   28866  Subscriber   \n",
       "4             40.734011             -74.002939   20943    Customer   \n",
       "\n",
       "   birth year  gender  \n",
       "0        1980       1  \n",
       "1        1969       0  \n",
       "2        1975       1  \n",
       "3        1984       2  \n",
       "4        1994       1  "
      ]
     },
     "execution_count": 6,
     "metadata": {},
     "output_type": "execute_result"
    }
   ],
   "source": [
    "citibike_data = citibike_original_data.copy()\n",
    "citibike_data.head()"
   ]
  },
  {
   "cell_type": "code",
   "execution_count": 8,
   "metadata": {},
   "outputs": [
    {
     "name": "stdout",
     "output_type": "stream",
     "text": [
      "<class 'pandas.core.frame.DataFrame'>\n",
      "RangeIndex: 300000 entries, 0 to 299999\n",
      "Data columns (total 14 columns):\n",
      " #   Column                   Non-Null Count   Dtype  \n",
      "---  ------                   --------------   -----  \n",
      " 0   starttime                300000 non-null  object \n",
      " 1   stoptime                 300000 non-null  object \n",
      " 2   start station id         299831 non-null  float64\n",
      " 3   start station name       299831 non-null  object \n",
      " 4   start station latitude   300000 non-null  float64\n",
      " 5   start station longitude  300000 non-null  float64\n",
      " 6   end station id           299831 non-null  float64\n",
      " 7   end station name         299831 non-null  object \n",
      " 8   end station latitude     300000 non-null  float64\n",
      " 9   end station longitude    300000 non-null  float64\n",
      " 10  bikeid                   300000 non-null  int64  \n",
      " 11  usertype                 300000 non-null  object \n",
      " 12  birth year               300000 non-null  int64  \n",
      " 13  gender                   300000 non-null  int64  \n",
      "dtypes: float64(6), int64(3), object(5)\n",
      "memory usage: 32.0+ MB\n"
     ]
    }
   ],
   "source": [
    "citibike_data.info()"
   ]
  },
  {
   "cell_type": "code",
   "execution_count": 11,
   "metadata": {},
   "outputs": [
    {
     "data": {
      "text/plain": [
       "start station id\n",
       "281.0     0.006430\n",
       "2006.0    0.006367\n",
       "519.0     0.006247\n",
       "514.0     0.006153\n",
       "426.0     0.006120\n",
       "            ...   \n",
       "3432.0    0.000050\n",
       "3599.0    0.000037\n",
       "2005.0    0.000030\n",
       "3704.0    0.000023\n",
       "3583.0    0.000020\n",
       "Name: proportion, Length: 759, dtype: float64"
      ]
     },
     "execution_count": 11,
     "metadata": {},
     "output_type": "execute_result"
    }
   ],
   "source": [
    "citibike_data[\"start station id\"].value_counts(normalize=True)"
   ]
  },
  {
   "cell_type": "code",
   "execution_count": 12,
   "metadata": {},
   "outputs": [
    {
     "data": {
      "text/plain": [
       "bikeid\n",
       "33887    0.000357\n",
       "34358    0.000347\n",
       "34159    0.000343\n",
       "34258    0.000343\n",
       "33916    0.000340\n",
       "           ...   \n",
       "18587    0.000003\n",
       "17324    0.000003\n",
       "29593    0.000003\n",
       "33157    0.000003\n",
       "25794    0.000003\n",
       "Name: proportion, Length: 10004, dtype: float64"
      ]
     },
     "execution_count": 12,
     "metadata": {},
     "output_type": "execute_result"
    }
   ],
   "source": [
    "citibike_data[\"bikeid\"].value_counts(normalize=True)"
   ]
  },
  {
   "cell_type": "code",
   "execution_count": 14,
   "metadata": {},
   "outputs": [
    {
     "name": "stdout",
     "output_type": "stream",
     "text": [
      "0.77\n"
     ]
    }
   ],
   "source": [
    "customers_count = citibike_data[citibike_data[\"usertype\"] == \"Customer\"].shape[0]\n",
    "subscribers_count = citibike_data[citibike_data[\"usertype\"] == \"Subscriber\"].shape[0]\n",
    "print(round(subscribers_count/(customers_count + subscribers_count), 2))"
   ]
  },
  {
   "cell_type": "code",
   "execution_count": 15,
   "metadata": {},
   "outputs": [
    {
     "name": "stdout",
     "output_type": "stream",
     "text": [
      "183582 74506\n"
     ]
    }
   ],
   "source": [
    "men_rides = citibike_data[citibike_data[\"gender\"] == 1].shape[0]\n",
    "women_rides = citibike_data[citibike_data[\"gender\"] == 2].shape[0]\n",
    "print(men_rides, women_rides)"
   ]
  },
  {
   "cell_type": "code",
   "execution_count": 16,
   "metadata": {},
   "outputs": [
    {
     "data": {
      "text/plain": [
       "starttime                  299836\n",
       "stoptime                   299813\n",
       "start station id              759\n",
       "start station name            759\n",
       "start station latitude        770\n",
       "start station longitude       772\n",
       "end station id                765\n",
       "end station name              765\n",
       "end station latitude          775\n",
       "end station longitude         777\n",
       "bikeid                      10004\n",
       "usertype                        2\n",
       "birth year                     91\n",
       "gender                          3\n",
       "dtype: int64"
      ]
     },
     "execution_count": 16,
     "metadata": {},
     "output_type": "execute_result"
    }
   ],
   "source": [
    "citibike_data.nunique()"
   ]
  },
  {
   "cell_type": "code",
   "execution_count": 18,
   "metadata": {},
   "outputs": [
    {
     "data": {
      "text/plain": [
       "np.int64(16)"
      ]
     },
     "execution_count": 18,
     "metadata": {},
     "output_type": "execute_result"
    }
   ],
   "source": [
    "users_age = 2018 - citibike_data[\"birth year\"]\n",
    "users_age.min()"
   ]
  },
  {
   "cell_type": "code",
   "execution_count": 19,
   "metadata": {},
   "outputs": [
    {
     "data": {
      "text/plain": [
       "start station name\n",
       "Grand Army Plaza & Central Park S    1928\n",
       "Central Park S & 6 Ave               1909\n",
       "Pershing Square North                1873\n",
       "12 Ave & W 40 St                     1845\n",
       "West St & Chambers St                1835\n",
       "                                     ... \n",
       "NYCBS Depot - GOW                      15\n",
       "Franklin Ave & Empire Blvd             11\n",
       "Railroad Ave & Kay Ave                  9\n",
       "47 Ave & Skillman Ave                   7\n",
       "Eastern Pkwy & Washington Ave           6\n",
       "Name: count, Length: 759, dtype: int64"
      ]
     },
     "execution_count": 19,
     "metadata": {},
     "output_type": "execute_result"
    }
   ],
   "source": [
    "citibike_data[\"start station name\"].value_counts()"
   ]
  },
  {
   "cell_type": "code",
   "execution_count": 20,
   "metadata": {},
   "outputs": [
    {
     "data": {
      "text/plain": [
       "end station name\n",
       "West St & Chambers St          1963\n",
       "12 Ave & W 40 St               1909\n",
       "Pershing Square North          1850\n",
       "Central Park S & 6 Ave         1828\n",
       "E 17 St & Broadway             1804\n",
       "                               ... \n",
       "Exchange Place                    3\n",
       "Union St                          1\n",
       "Warren St                         1\n",
       "Montrose Ave & Bushwick Ave       1\n",
       "Liberty Light Rail                1\n",
       "Name: count, Length: 765, dtype: int64"
      ]
     },
     "execution_count": 20,
     "metadata": {},
     "output_type": "execute_result"
    }
   ],
   "source": [
    "citibike_data[\"end station name\"].value_counts()"
   ]
  },
  {
   "cell_type": "code",
   "execution_count": 21,
   "metadata": {},
   "outputs": [],
   "source": [
    "citibike_data.drop([\"start station id\", \"end station id\"], axis=1, inplace=True)"
   ]
  },
  {
   "cell_type": "code",
   "execution_count": 23,
   "metadata": {},
   "outputs": [
    {
     "name": "stdout",
     "output_type": "stream",
     "text": [
      "<class 'pandas.core.frame.DataFrame'>\n",
      "RangeIndex: 300000 entries, 0 to 299999\n",
      "Data columns (total 12 columns):\n",
      " #   Column                   Non-Null Count   Dtype  \n",
      "---  ------                   --------------   -----  \n",
      " 0   starttime                300000 non-null  object \n",
      " 1   stoptime                 300000 non-null  object \n",
      " 2   start station name       299831 non-null  object \n",
      " 3   start station latitude   300000 non-null  float64\n",
      " 4   start station longitude  300000 non-null  float64\n",
      " 5   end station name         299831 non-null  object \n",
      " 6   end station latitude     300000 non-null  float64\n",
      " 7   end station longitude    300000 non-null  float64\n",
      " 8   bikeid                   300000 non-null  int64  \n",
      " 9   usertype                 300000 non-null  object \n",
      " 10  birth year               300000 non-null  int64  \n",
      " 11  gender                   300000 non-null  int64  \n",
      "dtypes: float64(4), int64(3), object(5)\n",
      "memory usage: 27.5+ MB\n"
     ]
    }
   ],
   "source": [
    "citibike_data.info()"
   ]
  },
  {
   "cell_type": "code",
   "execution_count": 24,
   "metadata": {},
   "outputs": [
    {
     "data": {
      "text/plain": [
       "11837"
      ]
     },
     "execution_count": 24,
     "metadata": {},
     "output_type": "execute_result"
    }
   ],
   "source": [
    "citibike_data[\"age\"] = 2018 - citibike_data[\"birth year\"]\n",
    "citibike_data[citibike_data[\"age\"] > 60].shape[0]"
   ]
  },
  {
   "cell_type": "code",
   "execution_count": 35,
   "metadata": {},
   "outputs": [],
   "source": [
    "citibike_data.drop(\"birth year\", axis=1, inplace=True)"
   ]
  },
  {
   "cell_type": "code",
   "execution_count": 36,
   "metadata": {},
   "outputs": [],
   "source": [
    "citibike_data[\"starttime\"] = pd.to_datetime(citibike_data[\"starttime\"])\n",
    "citibike_data[\"stoptime\"] = pd.to_datetime(citibike_data[\"stoptime\"])\n",
    "citibike_data[\"trip duration\"] = citibike_data[\"stoptime\"] - citibike_data[\"starttime\"]"
   ]
  },
  {
   "cell_type": "code",
   "execution_count": 37,
   "metadata": {},
   "outputs": [
    {
     "data": {
      "text/html": [
       "<div>\n",
       "<style scoped>\n",
       "    .dataframe tbody tr th:only-of-type {\n",
       "        vertical-align: middle;\n",
       "    }\n",
       "\n",
       "    .dataframe tbody tr th {\n",
       "        vertical-align: top;\n",
       "    }\n",
       "\n",
       "    .dataframe thead th {\n",
       "        text-align: right;\n",
       "    }\n",
       "</style>\n",
       "<table border=\"1\" class=\"dataframe\">\n",
       "  <thead>\n",
       "    <tr style=\"text-align: right;\">\n",
       "      <th></th>\n",
       "      <th>starttime</th>\n",
       "      <th>stoptime</th>\n",
       "      <th>start station name</th>\n",
       "      <th>start station latitude</th>\n",
       "      <th>start station longitude</th>\n",
       "      <th>end station name</th>\n",
       "      <th>end station latitude</th>\n",
       "      <th>end station longitude</th>\n",
       "      <th>bikeid</th>\n",
       "      <th>usertype</th>\n",
       "      <th>gender</th>\n",
       "      <th>age</th>\n",
       "      <th>trip duration</th>\n",
       "    </tr>\n",
       "  </thead>\n",
       "  <tbody>\n",
       "    <tr>\n",
       "      <th>0</th>\n",
       "      <td>2018-09-01 00:00:05.269</td>\n",
       "      <td>2018-09-01 00:27:20.634</td>\n",
       "      <td>MacDougal St &amp; Washington Sq</td>\n",
       "      <td>40.732264</td>\n",
       "      <td>-73.998522</td>\n",
       "      <td>Clinton Ave &amp; Myrtle Ave</td>\n",
       "      <td>40.693261</td>\n",
       "      <td>-73.968896</td>\n",
       "      <td>25577</td>\n",
       "      <td>Subscriber</td>\n",
       "      <td>1</td>\n",
       "      <td>38</td>\n",
       "      <td>0 days 00:27:15.365000</td>\n",
       "    </tr>\n",
       "    <tr>\n",
       "      <th>1</th>\n",
       "      <td>2018-09-01 00:00:11.281</td>\n",
       "      <td>2018-09-01 00:02:23.481</td>\n",
       "      <td>Cadman Plaza West &amp; Montague St</td>\n",
       "      <td>40.693830</td>\n",
       "      <td>-73.990539</td>\n",
       "      <td>Schermerhorn St &amp; Court St</td>\n",
       "      <td>40.691029</td>\n",
       "      <td>-73.991834</td>\n",
       "      <td>34377</td>\n",
       "      <td>Subscriber</td>\n",
       "      <td>0</td>\n",
       "      <td>49</td>\n",
       "      <td>0 days 00:02:12.200000</td>\n",
       "    </tr>\n",
       "    <tr>\n",
       "      <th>2</th>\n",
       "      <td>2018-09-01 00:00:20.649</td>\n",
       "      <td>2018-09-01 00:55:58.547</td>\n",
       "      <td>1 Ave &amp; E 62 St</td>\n",
       "      <td>40.761227</td>\n",
       "      <td>-73.960940</td>\n",
       "      <td>Smith St &amp; 3 St</td>\n",
       "      <td>40.678724</td>\n",
       "      <td>-73.995991</td>\n",
       "      <td>30496</td>\n",
       "      <td>Subscriber</td>\n",
       "      <td>1</td>\n",
       "      <td>43</td>\n",
       "      <td>0 days 00:55:37.898000</td>\n",
       "    </tr>\n",
       "    <tr>\n",
       "      <th>3</th>\n",
       "      <td>2018-09-01 00:00:21.746</td>\n",
       "      <td>2018-09-01 00:07:38.583</td>\n",
       "      <td>St James Pl &amp; Oliver St</td>\n",
       "      <td>40.713079</td>\n",
       "      <td>-73.998512</td>\n",
       "      <td>Park Pl &amp; Church St</td>\n",
       "      <td>40.713342</td>\n",
       "      <td>-74.009355</td>\n",
       "      <td>28866</td>\n",
       "      <td>Subscriber</td>\n",
       "      <td>2</td>\n",
       "      <td>34</td>\n",
       "      <td>0 days 00:07:16.837000</td>\n",
       "    </tr>\n",
       "    <tr>\n",
       "      <th>4</th>\n",
       "      <td>2018-09-01 00:00:27.315</td>\n",
       "      <td>2018-09-01 02:21:25.308</td>\n",
       "      <td>W 13 St &amp; 6 Ave</td>\n",
       "      <td>40.736494</td>\n",
       "      <td>-73.997044</td>\n",
       "      <td>W 4 St &amp; 7 Ave S</td>\n",
       "      <td>40.734011</td>\n",
       "      <td>-74.002939</td>\n",
       "      <td>20943</td>\n",
       "      <td>Customer</td>\n",
       "      <td>1</td>\n",
       "      <td>24</td>\n",
       "      <td>0 days 02:20:57.993000</td>\n",
       "    </tr>\n",
       "  </tbody>\n",
       "</table>\n",
       "</div>"
      ],
      "text/plain": [
       "                starttime                stoptime  \\\n",
       "0 2018-09-01 00:00:05.269 2018-09-01 00:27:20.634   \n",
       "1 2018-09-01 00:00:11.281 2018-09-01 00:02:23.481   \n",
       "2 2018-09-01 00:00:20.649 2018-09-01 00:55:58.547   \n",
       "3 2018-09-01 00:00:21.746 2018-09-01 00:07:38.583   \n",
       "4 2018-09-01 00:00:27.315 2018-09-01 02:21:25.308   \n",
       "\n",
       "                start station name  start station latitude  \\\n",
       "0     MacDougal St & Washington Sq               40.732264   \n",
       "1  Cadman Plaza West & Montague St               40.693830   \n",
       "2                  1 Ave & E 62 St               40.761227   \n",
       "3          St James Pl & Oliver St               40.713079   \n",
       "4                  W 13 St & 6 Ave               40.736494   \n",
       "\n",
       "   start station longitude            end station name  end station latitude  \\\n",
       "0               -73.998522    Clinton Ave & Myrtle Ave             40.693261   \n",
       "1               -73.990539  Schermerhorn St & Court St             40.691029   \n",
       "2               -73.960940             Smith St & 3 St             40.678724   \n",
       "3               -73.998512         Park Pl & Church St             40.713342   \n",
       "4               -73.997044            W 4 St & 7 Ave S             40.734011   \n",
       "\n",
       "   end station longitude  bikeid    usertype  gender  age  \\\n",
       "0             -73.968896   25577  Subscriber       1   38   \n",
       "1             -73.991834   34377  Subscriber       0   49   \n",
       "2             -73.995991   30496  Subscriber       1   43   \n",
       "3             -74.009355   28866  Subscriber       2   34   \n",
       "4             -74.002939   20943    Customer       1   24   \n",
       "\n",
       "           trip duration  \n",
       "0 0 days 00:27:15.365000  \n",
       "1 0 days 00:02:12.200000  \n",
       "2 0 days 00:55:37.898000  \n",
       "3 0 days 00:07:16.837000  \n",
       "4 0 days 02:20:57.993000  "
      ]
     },
     "execution_count": 37,
     "metadata": {},
     "output_type": "execute_result"
    }
   ],
   "source": [
    "citibike_data.head()"
   ]
  },
  {
   "cell_type": "code",
   "execution_count": 40,
   "metadata": {},
   "outputs": [
    {
     "name": "stdout",
     "output_type": "stream",
     "text": [
      "<class 'pandas.core.frame.DataFrame'>\n",
      "RangeIndex: 300000 entries, 0 to 299999\n",
      "Data columns (total 13 columns):\n",
      " #   Column                   Non-Null Count   Dtype          \n",
      "---  ------                   --------------   -----          \n",
      " 0   starttime                300000 non-null  datetime64[ns] \n",
      " 1   stoptime                 300000 non-null  datetime64[ns] \n",
      " 2   start station name       299831 non-null  object         \n",
      " 3   start station latitude   300000 non-null  float64        \n",
      " 4   start station longitude  300000 non-null  float64        \n",
      " 5   end station name         299831 non-null  object         \n",
      " 6   end station latitude     300000 non-null  float64        \n",
      " 7   end station longitude    300000 non-null  float64        \n",
      " 8   bikeid                   300000 non-null  int64          \n",
      " 9   usertype                 300000 non-null  object         \n",
      " 10  gender                   300000 non-null  int64          \n",
      " 11  age                      300000 non-null  int64          \n",
      " 12  trip duration            300000 non-null  timedelta64[ns]\n",
      "dtypes: datetime64[ns](2), float64(4), int64(3), object(3), timedelta64[ns](1)\n",
      "memory usage: 29.8+ MB\n"
     ]
    }
   ],
   "source": [
    "citibike_data.info()"
   ]
  },
  {
   "cell_type": "code",
   "execution_count": 43,
   "metadata": {},
   "outputs": [],
   "source": [
    "citibike_data[\"weekend\"] = citibike_data[\"starttime\"].dt.day_of_week\n",
    "# citibike_data[\"weekend\"] = citibike_data[\"starttime\"].apply(lambda x: 1 if (x.dt.day_of_week == 5 or x.dt.day_of_week == 6) else 0)"
   ]
  },
  {
   "cell_type": "code",
   "execution_count": 45,
   "metadata": {},
   "outputs": [],
   "source": [
    "citibike_data[\"weekend\"] = citibike_data[\"weekend\"].apply(lambda x: 1 if (x== 5 or x == 6) else 0)"
   ]
  },
  {
   "cell_type": "code",
   "execution_count": 46,
   "metadata": {},
   "outputs": [
    {
     "data": {
      "text/html": [
       "<div>\n",
       "<style scoped>\n",
       "    .dataframe tbody tr th:only-of-type {\n",
       "        vertical-align: middle;\n",
       "    }\n",
       "\n",
       "    .dataframe tbody tr th {\n",
       "        vertical-align: top;\n",
       "    }\n",
       "\n",
       "    .dataframe thead th {\n",
       "        text-align: right;\n",
       "    }\n",
       "</style>\n",
       "<table border=\"1\" class=\"dataframe\">\n",
       "  <thead>\n",
       "    <tr style=\"text-align: right;\">\n",
       "      <th></th>\n",
       "      <th>starttime</th>\n",
       "      <th>stoptime</th>\n",
       "      <th>start station name</th>\n",
       "      <th>start station latitude</th>\n",
       "      <th>start station longitude</th>\n",
       "      <th>end station name</th>\n",
       "      <th>end station latitude</th>\n",
       "      <th>end station longitude</th>\n",
       "      <th>bikeid</th>\n",
       "      <th>usertype</th>\n",
       "      <th>gender</th>\n",
       "      <th>age</th>\n",
       "      <th>trip duration</th>\n",
       "      <th>weekend</th>\n",
       "    </tr>\n",
       "  </thead>\n",
       "  <tbody>\n",
       "    <tr>\n",
       "      <th>0</th>\n",
       "      <td>2018-09-01 00:00:05.269</td>\n",
       "      <td>2018-09-01 00:27:20.634</td>\n",
       "      <td>MacDougal St &amp; Washington Sq</td>\n",
       "      <td>40.732264</td>\n",
       "      <td>-73.998522</td>\n",
       "      <td>Clinton Ave &amp; Myrtle Ave</td>\n",
       "      <td>40.693261</td>\n",
       "      <td>-73.968896</td>\n",
       "      <td>25577</td>\n",
       "      <td>Subscriber</td>\n",
       "      <td>1</td>\n",
       "      <td>38</td>\n",
       "      <td>0 days 00:27:15.365000</td>\n",
       "      <td>1</td>\n",
       "    </tr>\n",
       "    <tr>\n",
       "      <th>1</th>\n",
       "      <td>2018-09-01 00:00:11.281</td>\n",
       "      <td>2018-09-01 00:02:23.481</td>\n",
       "      <td>Cadman Plaza West &amp; Montague St</td>\n",
       "      <td>40.693830</td>\n",
       "      <td>-73.990539</td>\n",
       "      <td>Schermerhorn St &amp; Court St</td>\n",
       "      <td>40.691029</td>\n",
       "      <td>-73.991834</td>\n",
       "      <td>34377</td>\n",
       "      <td>Subscriber</td>\n",
       "      <td>0</td>\n",
       "      <td>49</td>\n",
       "      <td>0 days 00:02:12.200000</td>\n",
       "      <td>1</td>\n",
       "    </tr>\n",
       "    <tr>\n",
       "      <th>2</th>\n",
       "      <td>2018-09-01 00:00:20.649</td>\n",
       "      <td>2018-09-01 00:55:58.547</td>\n",
       "      <td>1 Ave &amp; E 62 St</td>\n",
       "      <td>40.761227</td>\n",
       "      <td>-73.960940</td>\n",
       "      <td>Smith St &amp; 3 St</td>\n",
       "      <td>40.678724</td>\n",
       "      <td>-73.995991</td>\n",
       "      <td>30496</td>\n",
       "      <td>Subscriber</td>\n",
       "      <td>1</td>\n",
       "      <td>43</td>\n",
       "      <td>0 days 00:55:37.898000</td>\n",
       "      <td>1</td>\n",
       "    </tr>\n",
       "    <tr>\n",
       "      <th>3</th>\n",
       "      <td>2018-09-01 00:00:21.746</td>\n",
       "      <td>2018-09-01 00:07:38.583</td>\n",
       "      <td>St James Pl &amp; Oliver St</td>\n",
       "      <td>40.713079</td>\n",
       "      <td>-73.998512</td>\n",
       "      <td>Park Pl &amp; Church St</td>\n",
       "      <td>40.713342</td>\n",
       "      <td>-74.009355</td>\n",
       "      <td>28866</td>\n",
       "      <td>Subscriber</td>\n",
       "      <td>2</td>\n",
       "      <td>34</td>\n",
       "      <td>0 days 00:07:16.837000</td>\n",
       "      <td>1</td>\n",
       "    </tr>\n",
       "    <tr>\n",
       "      <th>4</th>\n",
       "      <td>2018-09-01 00:00:27.315</td>\n",
       "      <td>2018-09-01 02:21:25.308</td>\n",
       "      <td>W 13 St &amp; 6 Ave</td>\n",
       "      <td>40.736494</td>\n",
       "      <td>-73.997044</td>\n",
       "      <td>W 4 St &amp; 7 Ave S</td>\n",
       "      <td>40.734011</td>\n",
       "      <td>-74.002939</td>\n",
       "      <td>20943</td>\n",
       "      <td>Customer</td>\n",
       "      <td>1</td>\n",
       "      <td>24</td>\n",
       "      <td>0 days 02:20:57.993000</td>\n",
       "      <td>1</td>\n",
       "    </tr>\n",
       "  </tbody>\n",
       "</table>\n",
       "</div>"
      ],
      "text/plain": [
       "                starttime                stoptime  \\\n",
       "0 2018-09-01 00:00:05.269 2018-09-01 00:27:20.634   \n",
       "1 2018-09-01 00:00:11.281 2018-09-01 00:02:23.481   \n",
       "2 2018-09-01 00:00:20.649 2018-09-01 00:55:58.547   \n",
       "3 2018-09-01 00:00:21.746 2018-09-01 00:07:38.583   \n",
       "4 2018-09-01 00:00:27.315 2018-09-01 02:21:25.308   \n",
       "\n",
       "                start station name  start station latitude  \\\n",
       "0     MacDougal St & Washington Sq               40.732264   \n",
       "1  Cadman Plaza West & Montague St               40.693830   \n",
       "2                  1 Ave & E 62 St               40.761227   \n",
       "3          St James Pl & Oliver St               40.713079   \n",
       "4                  W 13 St & 6 Ave               40.736494   \n",
       "\n",
       "   start station longitude            end station name  end station latitude  \\\n",
       "0               -73.998522    Clinton Ave & Myrtle Ave             40.693261   \n",
       "1               -73.990539  Schermerhorn St & Court St             40.691029   \n",
       "2               -73.960940             Smith St & 3 St             40.678724   \n",
       "3               -73.998512         Park Pl & Church St             40.713342   \n",
       "4               -73.997044            W 4 St & 7 Ave S             40.734011   \n",
       "\n",
       "   end station longitude  bikeid    usertype  gender  age  \\\n",
       "0             -73.968896   25577  Subscriber       1   38   \n",
       "1             -73.991834   34377  Subscriber       0   49   \n",
       "2             -73.995991   30496  Subscriber       1   43   \n",
       "3             -74.009355   28866  Subscriber       2   34   \n",
       "4             -74.002939   20943    Customer       1   24   \n",
       "\n",
       "           trip duration  weekend  \n",
       "0 0 days 00:27:15.365000        1  \n",
       "1 0 days 00:02:12.200000        1  \n",
       "2 0 days 00:55:37.898000        1  \n",
       "3 0 days 00:07:16.837000        1  \n",
       "4 0 days 02:20:57.993000        1  "
      ]
     },
     "execution_count": 46,
     "metadata": {},
     "output_type": "execute_result"
    }
   ],
   "source": [
    "citibike_data.head()"
   ]
  },
  {
   "cell_type": "code",
   "execution_count": 47,
   "metadata": {},
   "outputs": [
    {
     "data": {
      "text/plain": [
       "115135"
      ]
     },
     "execution_count": 47,
     "metadata": {},
     "output_type": "execute_result"
    }
   ],
   "source": [
    "citibike_data[citibike_data[\"weekend\"] == 1].shape[0]"
   ]
  },
  {
   "cell_type": "code",
   "execution_count": 49,
   "metadata": {},
   "outputs": [],
   "source": [
    "def get_time_of_day(time):\n",
    "    if 0 <= time.hour <= 6:\n",
    "        return \"night\"\n",
    "    elif 6 < time.hour <= 12:\n",
    "        return \"morning\"\n",
    "    elif 12 < time.hour <= 18:\n",
    "        return \"day\"\n",
    "    else:\n",
    "        return \"evening\""
   ]
  },
  {
   "cell_type": "code",
   "execution_count": 50,
   "metadata": {},
   "outputs": [
    {
     "data": {
      "text/plain": [
       "0           night\n",
       "1           night\n",
       "2           night\n",
       "3           night\n",
       "4           night\n",
       "           ...   \n",
       "299995    evening\n",
       "299996    evening\n",
       "299997    evening\n",
       "299998    evening\n",
       "299999    evening\n",
       "Name: time_of_day, Length: 300000, dtype: object"
      ]
     },
     "execution_count": 50,
     "metadata": {},
     "output_type": "execute_result"
    }
   ],
   "source": [
    "citibike_data[\"time_of_day\"] = citibike_data[\"starttime\"].apply(get_time_of_day)\n",
    "citibike_data[\"time_of_day\"] "
   ]
  },
  {
   "cell_type": "code",
   "execution_count": 51,
   "metadata": {},
   "outputs": [
    {
     "name": "stdout",
     "output_type": "stream",
     "text": [
      "9\n"
     ]
    }
   ],
   "source": [
    "day_rides = citibike_data[citibike_data[\"time_of_day\"] == \"day\"].shape[0]\n",
    "night_rides = citibike_data[citibike_data[\"time_of_day\"] == \"night\"].shape[0]\n",
    "print(round(day_rides/night_rides))"
   ]
  }
 ],
 "metadata": {
  "kernelspec": {
   "display_name": ".venv",
   "language": "python",
   "name": "python3"
  },
  "language_info": {
   "codemirror_mode": {
    "name": "ipython",
    "version": 3
   },
   "file_extension": ".py",
   "mimetype": "text/x-python",
   "name": "python",
   "nbconvert_exporter": "python",
   "pygments_lexer": "ipython3",
   "version": "3.12.6"
  }
 },
 "nbformat": 4,
 "nbformat_minor": 2
}
